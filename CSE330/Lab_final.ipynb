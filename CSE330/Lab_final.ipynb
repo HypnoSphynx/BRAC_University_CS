{
 "cells": [
  {
   "cell_type": "code",
   "execution_count": 2,
   "metadata": {},
   "outputs": [
    {
     "name": "stdout",
     "output_type": "stream",
     "text": [
      "Requirement already satisfied: numpy in c:\\users\\zawad\\appdata\\local\\programs\\python\\python310\\lib\\site-packages (1.24.3)\n"
     ]
    },
    {
     "name": "stderr",
     "output_type": "stream",
     "text": [
      "\n",
      "[notice] A new release of pip is available: 24.0 -> 24.3.1\n",
      "[notice] To update, run: python.exe -m pip install --upgrade pip\n"
     ]
    }
   ],
   "source": [
    "!pip install numpy"
   ]
  },
  {
   "cell_type": "code",
   "execution_count": 4,
   "metadata": {},
   "outputs": [],
   "source": [
    "import numpy as np\n",
    "from numpy.polynomial import Polynomial\n"
   ]
  },
  {
   "cell_type": "markdown",
   "metadata": {},
   "source": [
    "# LAB1\n"
   ]
  },
  {
   "cell_type": "markdown",
   "metadata": {},
   "source": [
    "### Polynomial Interpolation using Function"
   ]
  },
  {
   "cell_type": "code",
   "execution_count": 14,
   "metadata": {},
   "outputs": [
    {
     "data": {
      "text/plain": [
       "[6553.0]"
      ]
     },
     "execution_count": 14,
     "metadata": {},
     "output_type": "execute_result"
    }
   ],
   "source": [
    "def poly_inter(coeff,x_arr): # \n",
    "\n",
    "    degree=len(coeff)-1\n",
    "    p_x=[]\n",
    "\n",
    "    for i in x_arr:\n",
    "        output=0\n",
    "        for j in range(degree+1):\n",
    "            output+= coeff[j] * (i**j)\n",
    "        p_x.append(output)\n",
    "    return p_x\n",
    "\n",
    "coeff=[1.0, 0.0, 2.0, 0.0, 5.0]\n",
    "x_arr=[6]\n",
    "poly_inter(coeff,x_arr)"
   ]
  },
  {
   "cell_type": "markdown",
   "metadata": {},
   "source": [
    "### Polynomial Interpolation using in-built function"
   ]
  },
  {
   "cell_type": "code",
   "execution_count": 16,
   "metadata": {},
   "outputs": [
    {
     "name": "stdout",
     "output_type": "stream",
     "text": [
      "6553.0\n",
      "1.0 + 0.0 x + 2.0 x**2 + 0.0 x**3 + 5.0 x**4\n"
     ]
    }
   ],
   "source": [
    "pol2=Polynomial([1.0, 0.0, 2.0, 0.0, 5.0])\n",
    "x=6\n",
    "print(pol2(x))\n",
    "print(pol2)"
   ]
  },
  {
   "cell_type": "markdown",
   "metadata": {},
   "source": [
    "### Polynomial Interpolation using class"
   ]
  },
  {
   "cell_type": "code",
   "execution_count": 29,
   "metadata": {},
   "outputs": [
    {
     "name": "stdout",
     "output_type": "stream",
     "text": [
      "[   8.   89.  424. 1313. 3176.]\n"
     ]
    }
   ],
   "source": [
    "class poly:\n",
    "    def __init__(self,coeff):\n",
    "        \n",
    "        self.coeff=coeff\n",
    "        self.degree=len(coeff)-1\n",
    "\n",
    "    def __call__(self,x_arr): # \n",
    "\n",
    "        p_x=[]\n",
    "\n",
    "        for i in x_arr:\n",
    "            output=0\n",
    "            for j in range(self.degree+1):\n",
    "                output+= self.coeff[j] * (i**j)\n",
    "            p_x.append(output)\n",
    "        return p_x\n",
    "\n",
    "\n",
    "# test cases for your answer\n",
    "x_arr = np.array([1, 2, 3, 4, 5])\n",
    "\n",
    "coeff = np.array([1.0, 0.0, 2.0, 0.0, 5.0])\n",
    "p = Polynomial(coeff)\n",
    "\n",
    "results = [8, 89, 424, 1313, 3176]\n",
    "test = p(x_arr)\n",
    "\n",
    "print(test)\n"
   ]
  },
  {
   "cell_type": "markdown",
   "metadata": {},
   "source": [
    "### Polynomial using Vandermonde's Matrix"
   ]
  },
  {
   "cell_type": "code",
   "execution_count": 43,
   "metadata": {},
   "outputs": [
    {
     "name": "stdout",
     "output_type": "stream",
     "text": [
      "[-80.0000000000005, -74.60997689056944, -69.36169491556363, -64.26436346250611, -59.326221339679655, -54.55456416821164, -49.95577177415883, -45.53533558059187, -41.29788599968009, -37.247219824776295, -33.38632762250131, -29.71742112482877, -26.241960621169927, -22.96068235045811, -19.873625893233648, -16.98016156372845, -14.279017801950802, -11.768308565769955, -9.445560723000948, -7.307741443489252, -5.351285591195475, -3.5721231162800775, -1.965706447188051, -0.5270378827337003, 0.7493030158147551, 1.8691320326504055, 2.8386329053429797, 3.6643299327541277, 4.353060582952706, 4.911948101130094, 5.348374117515489, 5.669951255291181, 5.884495738507866, 5.999999999999933, 6.024605289300766, 5.966574280558033, 5.834263680448994, 5.636096836095769, 5.380536342980669, 5.076056652861467, 4.731116681686698, 4.3541324175109635, 3.9534495284102134, 3.5373159703970556, 3.113854595336037, 2.6910357588589573, 2.2766499282801442, 1.878280290511763, 1.503275359979105, 1.158721586535888, 0.8514159633795476, 0.5878386349665354, 0.3741255049276141, 0.2160408439831502, 0.11894989785841614, 0.08779149519887694, 0.12705065548549235, 0.24073119695000925, 0.432328344490259, 0.704801337585452, 1.0605460382114746, 1.5013675387561773, 2.0284527699346815, 2.64234310870467, 3.342906986181679, 4.129312495554399, 4.99999999999997, 5.952654740599268, 6.984179444252213, 8.090666931593061, 9.26737272490569, 10.50868765603891, 11.808110474321753, 13.15822045447878, 14.550650004545304, 15.976057273782805, 17.42409876059416, 18.88340192043892, 20.341537773748648, 21.78499351384219, 23.199145114840974, 24.568229939584306, 25.875319347544682, 27.102291302743055, 28.229802981664136, 29.237263381171726, 30.10280592642398, 30.803261078788655, 31.31412894375853, 31.609551878866565, 31.66228710160131, 31.443679297322127, 30.923633227174484, 30.07058633600535, 28.8514813602783, 27.23173893598905, 25.175230206580515, 22.64424943085831, 19.59948659090592, 16.00000000000003]\n"
     ]
    }
   ],
   "source": [
    "def get_poly(x,coeff):\n",
    "\n",
    "    n_nodes=len(x)\n",
    "\n",
    "    x_arr=np.zeros((n_nodes,n_nodes))\n",
    "\n",
    "    for i in range(n_nodes):\n",
    "        for j in range(n_nodes):\n",
    "            x_arr[i][j]=x[i] ** j\n",
    "    \n",
    "\n",
    "    x_inv=np.linalg.pinv(x_arr)\n",
    "\n",
    "    a=np.dot(x_inv,coeff)\n",
    "    p=poly(a)\n",
    "\n",
    "    return p\n",
    "\n",
    "\n",
    "\n",
    "\n",
    "\n",
    "data_x = np.array([-3., -2., -1., 0., 1., 3.])   # (-3, -80), (-2, -13)......\n",
    "data_y = np.array([-80., -13., 6., 1., 5., 16.])\n",
    "p = get_poly(data_x, data_y)\n",
    "x_arr = np.linspace(-3, 3, 100)\n",
    "test = p(x_arr)\n",
    "\n",
    "print(test)\n"
   ]
  },
  {
   "cell_type": "markdown",
   "metadata": {},
   "source": [
    "# LAB 5"
   ]
  },
  {
   "cell_type": "markdown",
   "metadata": {},
   "source": [
    "### Central, Forward, Backward Difference"
   ]
  },
  {
   "cell_type": "code",
   "execution_count": 6,
   "metadata": {},
   "outputs": [],
   "source": [
    "\n",
    "\n",
    "def central_diff(f,h,x):\n",
    "    \n",
    "    return (f(x+h) - f(x-h)) / (2*h)\n",
    "\n",
    "def forward_diff(f,h,x):\n",
    "\n",
    "    return (f(x+h)- f(x))/ h\n",
    "\n",
    "def backward_diff(f,h,x):\n",
    "\n",
    "    return (f(x) - f(x-h))/ h\n",
    "\n"
   ]
  },
  {
   "cell_type": "code",
   "execution_count": null,
   "metadata": {},
   "outputs": [
    {
     "data": {
      "text/plain": [
       "array([-3.31250000e+00, -7.87781303e+00, -1.07029543e+01, -1.20843372e+01,\n",
       "       -1.22970255e+01, -1.15947332e+01, -1.02098246e+01, -8.35331424e+00,\n",
       "       -6.21486705e+00, -3.96279818e+00, -1.74407307e+00,  3.15692524e-01,\n",
       "        2.11223258e+00,  3.56263077e+00,  4.60532049e+00,  5.20008484e+00,\n",
       "        5.32805664e+00,  4.99171841e+00,  4.21490238e+00,  3.04279051e+00,\n",
       "        1.54191445e+00, -1.99844440e-01, -2.07325507e+00, -3.94773664e+00,\n",
       "       -5.67135866e+00, -7.07084092e+00, -7.95155349e+00, -8.09751673e+00,\n",
       "       -7.27140129e+00, -5.21452813e+00, -1.64686846e+00,  3.73295619e+00,\n",
       "        1.12476740e+01,  2.12413629e+01,  3.40794505e+01,  5.01487141e+01,\n",
       "        6.98572807e+01,  9.36346272e+01,  1.21931580e+02,  1.55220315e+02,\n",
       "        1.93994358e+02,  2.38768586e+02,  2.90079222e+02,  3.48483843e+02,\n",
       "        4.14561373e+02,  4.88912086e+02,  5.72157606e+02,  6.64940908e+02,\n",
       "        7.67926315e+02,  8.81799500e+02])"
      ]
     },
     "execution_count": 49,
     "metadata": {},
     "output_type": "execute_result"
    }
   ],
   "source": [
    "h = 0.5\n",
    "p = Polynomial([3.5, 2.0, -10.0, -6.0, 6.0, 3.0])\n",
    "x = np.linspace(-2.0, 2.3, 50, endpoint=True)\n",
    "forward_diff(p, h, x)\n",
    "backward_diff(p, h, x)\n",
    "central_diff(p, h, x)\n"
   ]
  },
  {
   "cell_type": "markdown",
   "metadata": {},
   "source": [
    "### Error calculation\n"
   ]
  },
  {
   "cell_type": "code",
   "execution_count": 11,
   "metadata": {},
   "outputs": [],
   "source": [
    "def error(f,f_prime,h,x):\n",
    "\n",
    "    Y_actual=f_prime(x)\n",
    "\n",
    "    f_error=np.array([])\n",
    "    b_error=np.array([])\n",
    "    c_error=np.array([])\n",
    "\n",
    "\n",
    "    for h_i in h:\n",
    "\n",
    "        f_e=forward_diff(f,h_i,x)- Y_actual\n",
    "        f_error=np.append(f_error,f_e)\n",
    "\n",
    "        b_e=backward_diff(f,h_i,x)- Y_actual\n",
    "        b_error=np.append(b_error,b_e)\n",
    "\n",
    "        c_e=central_diff(f,h_i,x)- Y_actual\n",
    "        c_error=np.append(c_error,c_e)\n",
    "\n",
    "    \n",
    "    print(f_error)\n",
    "    print(b_error)\n",
    "    print(c_error)\n",
    "\n",
    "\n",
    "\n"
   ]
  },
  {
   "cell_type": "code",
   "execution_count": 12,
   "metadata": {},
   "outputs": [
    {
     "name": "stdout",
     "output_type": "stream",
     "text": [
      "[5.16118750e+03 2.41169019e+02 1.16976300e+02 6.23211736e+01\n",
      " 3.54563000e+01 1.90860670e+01 1.02867744e+01 5.79299512e+00\n",
      " 3.39623603e+00]\n",
      "[-291.8125     -142.60998125  -87.7677      -52.95256237  -32.2157\n",
      "  -18.10591205   -9.99516957   -5.69935862   -3.36383597]\n",
      "[2.43468750e+03 4.92795187e+01 1.46043000e+01 4.68430563e+00\n",
      " 1.62030000e+00 4.90077452e-01 1.45802430e-01 4.68182506e-02\n",
      " 1.62000300e-02]\n"
     ]
    }
   ],
   "source": [
    "p = Polynomial([3.5, 2.0, -10.0, -6.0, 6.0, 3.0])\n",
    "p_prime=p.deriv(1)\n",
    "h = np.array([3.5, 0.55, 0.3, .17, 0.1, 0.055, 0.03, 0.017, 0.01])\n",
    "x=2.0\n",
    "\n",
    "error(p,p_prime,h,x)\n",
    "\n"
   ]
  },
  {
   "cell_type": "markdown",
   "metadata": {},
   "source": [
    "### Richardson Extrapolation"
   ]
  },
  {
   "cell_type": "code",
   "execution_count": 41,
   "metadata": {},
   "outputs": [],
   "source": [
    "def dh(f,h,x):\n",
    "\n",
    "    return central_diff(f,h,x)\n",
    "\n",
    "def dh1(f,h,x):\n",
    "\n",
    "    return ((4*dh(f,h/2,x))-dh(f,h,x)) / 3\n",
    "\n",
    "def dh2(f,h,x):\n",
    "    \n",
    "    return ((16*dh1(f,h/2,x))- dh1(f,h,x)) /15\n",
    "\n"
   ]
  },
  {
   "cell_type": "markdown",
   "metadata": {},
   "source": [
    "### Extrapolation Error"
   ]
  },
  {
   "cell_type": "code",
   "execution_count": 45,
   "metadata": {},
   "outputs": [],
   "source": [
    "def error2(f,f_prime,h,x):\n",
    "\n",
    "    actual=f_prime(x)\n",
    "    err_1=[]\n",
    "    err_2=[]\n",
    "\n",
    "    for h_i in h:\n",
    "\n",
    "        err1=dh(f,h_i,x)-actual\n",
    "        err_1.append(err1)\n",
    "\n",
    "        err2=dh1(f,h_i,x)- actual\n",
    "        err_2.append(err2)\n",
    "\n",
    "    print(err_1)\n",
    "    print(err_2)\n",
    "\n",
    "\n"
   ]
  },
  {
   "cell_type": "code",
   "execution_count": 46,
   "metadata": {},
   "outputs": [
    {
     "name": "stdout",
     "output_type": "stream",
     "text": [
      "4.0 - 28.0 x - 30.0 x**2 + 12.0 x**3 + 7.5 x**4\n",
      "[1131.59375, 22.522259374999948, 6.672149999999938, 2.139852814999962, 0.7401500000000496, 0.22386372593762616, 0.06660121499967886, 0.02138612528162298, 0.007400015000364135]\n",
      "[-56.2734375, -0.03431484375002469, -0.0030375000000546493, -0.0003132037500677143, -3.750000012558985e-05, -3.4314849699512706e-06, -3.037500562186324e-07, -3.1317910043071606e-08, -3.74947006775983e-09]\n"
     ]
    }
   ],
   "source": [
    "\n",
    "p = Polynomial([3.0, 4.0, -14.0, -10.0, 3.0, 1.5])\n",
    "hs = np.array([3.5, 0.55, 0.3, .17, 0.1, 0.055, 0.03, 0.017, 0.01])\n",
    "p_prime=p.deriv(1)\n",
    "print(p_prime)\n",
    "error2(p,p_prime, hs, 2.0)\n"
   ]
  },
  {
   "cell_type": "markdown",
   "metadata": {},
   "source": [
    "# LAB 3"
   ]
  },
  {
   "cell_type": "markdown",
   "metadata": {},
   "source": [
    "### Lagrange Polynomial"
   ]
  },
  {
   "cell_type": "code",
   "execution_count": null,
   "metadata": {},
   "outputs": [],
   "source": [
    "import numpy as np"
   ]
  },
  {
   "cell_type": "code",
   "execution_count": 55,
   "metadata": {},
   "outputs": [],
   "source": [
    "class Lagrange_Polynomial:\n",
    "\n",
    "    def __init__(self,data_x,data_y):\n",
    "\n",
    "        self.degree=len(data_x)- 1\n",
    "\n",
    "        self.data_x=data_x\n",
    "        self.data_y=data_y\n",
    "\n",
    "    \n",
    "\n",
    "    def l(self,k,x):\n",
    "\n",
    "        l_k=1.0\n",
    "\n",
    "        for j in range(self.degree+1):\n",
    "            if j==k:\n",
    "                continue\n",
    "            l_k*=(x-self.data_x[j])/(self.data_x[k]-self.data_x[j])\n",
    "        return l_k\n",
    "\n",
    "\n",
    "    def __call__(self,x_arr):\n",
    "\n",
    "\n",
    "        result_arr=np.zeros(len(x_arr))\n",
    "\n",
    "        for i in range(len(x_arr+1)):\n",
    "\n",
    "            result_arr+= (self.data_y[i]* self.l(i,x_arr))\n",
    "\n",
    "        return result_arr\n"
   ]
  },
  {
   "cell_type": "code",
   "execution_count": null,
   "metadata": {},
   "outputs": [],
   "source": [
    "class Lagrange_Polynomial:\n",
    "    def __init__(self, data_x, data_y):\n",
    "        '''\n",
    "        First we need to check whether the input vectors (numpy arrays) are equal\n",
    "        or not.\n",
    "        assert (condition), \"msg\"\n",
    "        this command checks if the condition is true or false. If true, the code\n",
    "        runs normally. But if false, then the code returns an error message \"msg\"\n",
    "        and stops execution\n",
    "        '''\n",
    "        assert len(data_x) == len(data_y), \"length of data_x and data_y must be equal\"\n",
    "\n",
    "        '''\n",
    "        Lagrange polynomials do not use coefficeints a_i, rather the nodes\n",
    "        (x_i, y_i). Hence, we just need to store these inside the object\n",
    "        '''\n",
    "\n",
    "        self.data_x = data_x\n",
    "        self.data_y = data_y\n",
    "\n",
    "        self.degree = len(data_x) - 1\n",
    "        # we assume that the inputs are numpy array, so we can perform\n",
    "        # element wise operations\n",
    "\n",
    "    def __repr__(self):\n",
    "        # method for string representation\n",
    "        # you don't need to worry about the following code if you don't understand\n",
    "        strL = f\"LagrangePolynomial of order {self.degree}\\n\"\n",
    "        strL += \"p(x) = \"\n",
    "        for i in range(len(self.data_y)):\n",
    "            if self.data_y[i] == 0:\n",
    "                continue\n",
    "            elif self.data_y[i] >= 0:\n",
    "                strL += f\"+ {self.data_y[i]}*l_{i}(x) \"\n",
    "            else:\n",
    "                strL += f\"- {-self.data_y[i]}*l_{i}(x) \"\n",
    "\n",
    "        return strL\n",
    "\n",
    "    def l(self, k, x):\n",
    "\n",
    "\n",
    "        l_k = 1.0 # Initialization\n",
    "\n",
    "        # --------------------------------------------\n",
    "        # YOUR CODE HERE\n",
    "        for j in range(self.degree+1):\n",
    "            if j==k:\n",
    "                continue\n",
    "            l_k*= (x-self.data_x[j])/(self.data_x[k]-self.data_x[j])\n",
    "\n",
    "\n",
    "        return l_k\n",
    "\n",
    "\n",
    "    def __call__(self, x_arr):\n",
    "\n",
    "        # initialize with zero\n",
    "        p_x_arr  = np.zeros(len(x_arr))\n",
    "\n",
    "        # --------------------------------------------\n",
    "        # YOUR CODE HERE\n",
    "\n",
    "        for i in range(self.degree+1):\n",
    "            p_x_arr+=(self.data_y[i]*self.l(i, x_arr))\n",
    "\n",
    "        return p_x_arr"
   ]
  },
  {
   "cell_type": "code",
   "execution_count": 56,
   "metadata": {},
   "outputs": [
    {
     "name": "stdout",
     "output_type": "stream",
     "text": [
      "<__main__.Lagrange_Polynomial object at 0x000001E9D29EC4F0>\n"
     ]
    },
    {
     "ename": "IndexError",
     "evalue": "index 7 is out of bounds for axis 0 with size 7",
     "output_type": "error",
     "traceback": [
      "\u001b[1;31m---------------------------------------------------------------------------\u001b[0m",
      "\u001b[1;31mIndexError\u001b[0m                                Traceback (most recent call last)",
      "Cell \u001b[1;32mIn[56], line 9\u001b[0m\n\u001b[0;32m      7\u001b[0m \u001b[38;5;66;03m#generating 50 points from -2.55 to 1.189 in order to create a smooth line\u001b[39;00m\n\u001b[0;32m      8\u001b[0m x_arr \u001b[38;5;241m=\u001b[39m np\u001b[38;5;241m.\u001b[39mlinspace(\u001b[38;5;241m-\u001b[39m\u001b[38;5;241m3.5\u001b[39m, \u001b[38;5;241m1.6\u001b[39m, \u001b[38;5;241m40\u001b[39m)\n\u001b[1;32m----> 9\u001b[0m p_x_arr \u001b[38;5;241m=\u001b[39m \u001b[43mp\u001b[49m\u001b[43m(\u001b[49m\u001b[43mx_arr\u001b[49m\u001b[43m)\u001b[49m\n",
      "Cell \u001b[1;32mIn[55], line 30\u001b[0m, in \u001b[0;36mLagrange_Polynomial.__call__\u001b[1;34m(self, x_arr)\u001b[0m\n\u001b[0;32m     26\u001b[0m result_arr\u001b[38;5;241m=\u001b[39mnp\u001b[38;5;241m.\u001b[39mzeros(\u001b[38;5;28mlen\u001b[39m(x_arr))\n\u001b[0;32m     28\u001b[0m \u001b[38;5;28;01mfor\u001b[39;00m i \u001b[38;5;129;01min\u001b[39;00m \u001b[38;5;28mrange\u001b[39m(\u001b[38;5;28mlen\u001b[39m(x_arr\u001b[38;5;241m+\u001b[39m\u001b[38;5;241m1\u001b[39m)):\n\u001b[1;32m---> 30\u001b[0m     result_arr\u001b[38;5;241m+\u001b[39m\u001b[38;5;241m=\u001b[39m (\u001b[38;5;28;43mself\u001b[39;49m\u001b[38;5;241;43m.\u001b[39;49m\u001b[43mdata_y\u001b[49m\u001b[43m[\u001b[49m\u001b[43mi\u001b[49m\u001b[43m]\u001b[49m\u001b[38;5;241m*\u001b[39m \u001b[38;5;28mself\u001b[39m\u001b[38;5;241m.\u001b[39ml(i,x_arr))\n\u001b[0;32m     32\u001b[0m \u001b[38;5;28;01mreturn\u001b[39;00m result_arr\n",
      "\u001b[1;31mIndexError\u001b[0m: index 7 is out of bounds for axis 0 with size 7"
     ]
    }
   ],
   "source": [
    "data_x = np.array([-3.5, -2.231, -1.152, -0.5, 0.198, 0.785, 1.6])\n",
    "data_y = np.array([4.0, 1.193, 6.156, 2.0, 1.803, 2.558, 0.0])\n",
    "\n",
    "p = Lagrange_Polynomial(data_x, data_y)\n",
    "print(p)\n",
    "\n",
    "#generating 50 points from -2.55 to 1.189 in order to create a smooth line\n",
    "x_arr = np.linspace(-3.5, 1.6, 40)\n",
    "p_x_arr = p(x_arr)"
   ]
  }
 ],
 "metadata": {
  "kernelspec": {
   "display_name": "Python 3",
   "language": "python",
   "name": "python3"
  },
  "language_info": {
   "codemirror_mode": {
    "name": "ipython",
    "version": 3
   },
   "file_extension": ".py",
   "mimetype": "text/x-python",
   "name": "python",
   "nbconvert_exporter": "python",
   "pygments_lexer": "ipython3",
   "version": "3.10.11"
  }
 },
 "nbformat": 4,
 "nbformat_minor": 2
}
